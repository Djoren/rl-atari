{
 "cells": [
  {
   "cell_type": "code",
   "execution_count": 1,
   "metadata": {},
   "outputs": [
    {
     "data": {
      "text/plain": [
       "'2.7.0'"
      ]
     },
     "execution_count": 1,
     "metadata": {},
     "output_type": "execute_result"
    }
   ],
   "source": [
    "# %load_ext autoreload\n",
    "# %autoreload 2\n",
    "import joblib\n",
    "import random\n",
    "import numpy as np\n",
    "import pandas as pd\n",
    "from datetime import datetime, timedelta\n",
    "\n",
    "import os\n",
    "import multiprocessing as mp\n",
    "import gym\n",
    "\n",
    "import tensorflow as tf\n",
    "from tensorflow.keras.models import clone_model\n",
    "from tensorflow.keras.losses import Huber, CategoricalCrossentropy, KLDivergence\n",
    "\n",
    "import sys\n",
    "sys.path.append('../script')\n",
    "from utils import ( \n",
    "    preprocess_frame_v4, choose_action, get_lin_anneal_eps, sample_ran_action, \n",
    "    EpisodeLogger, frame_max_pooling, FRAME_CROP_SETTINGS, animate_episode_sal\n",
    ")\n",
    "from atari_model import (\n",
    "    atari_model, atari_model_dueling, atari_model_dueling, atari_model_distr,\n",
    "    fit_batch_DDQNn_PER, fit_batch_DDQNn_PER_DS\n",
    ")\n",
    "from replay_memory import PrioritizedReplayMemory\n",
    "\n",
    "tf.__version__"
   ]
  },
  {
   "cell_type": "code",
   "execution_count": 2,
   "metadata": {},
   "outputs": [],
   "source": [
    "# Set configuration\n",
    "game = 'space_invaders'\n",
    "total_train_len = 50_000      # Total no. of episodes to train\n",
    "max_episode_len = None        # Max no. of frames agent is allowed to see per episode [CURRENTLY UNUSED]\n",
    "state_len = 4                 # No. of stacked frames that comprise a state\n",
    "train_interval = 4            # Every x actions a gradient descend step is performed\n",
    "tgt_update_interval = 10_000  # Interval in terms of no. of frames after we update target model weights\n",
    "eps_init = 1                  # Initial eps in eps-greedy exploration \n",
    "eps_final = 0.1               # Final eps in eps-greedy exploration\n",
    "eps_final_frame = 1_000_000   # No. of frame over which eps is linearly annealed to final eps\n",
    "replay_init_sz = 50_000       # Replay mem. initialization size: random policy is run for this many frames, training starts after\n",
    "replay_mem_sz = 1_000_000     # Max no. of frames cached in replay memory\n",
    "\n",
    "batch_sz = 32                 # No. of training cases (sample from replay mem.) for each SGD update\n",
    "disc_rate = 0.99              # Q-learning discount factor (gamma)\n",
    "n_step = 3                    # Determines multi-step learning (n=1 is simply single step learning)\n",
    "# lr = 0.0000625              # Learning rate of CNN\n",
    "lr = 0.00025                  # Learning rate of CNN\n",
    "\n",
    "per_alpha = 0.5               # Exponent of priority probabilities\n",
    "per_beta = 0                  # Exponent of importance sampling weights # TODO: amend code to handle [0.4, 1] \n",
    "init_tds = False              # Whether to compute td-errors for initial replay memories\n",
    "crop_frame = True\n",
    "\n",
    "# Model variants (Rainbow)\n",
    "large_net = True\n",
    "double_learn = True\n",
    "duel_net = True\n",
    "noisy_net = False\n",
    "distr_net = False\n",
    "\n",
    "if noisy_net:\n",
    "    eps_init = eps_final = 0\n",
    "    \n",
    "if distr_net:\n",
    "    N = 51  # No. of atoms for our discretized distr.\n",
    "    V_min, V_max = -10, 10  # Min and max of distribution support\n",
    "    Z = np.linspace(V_min, V_max, N)  # Value distribution (i.e. the atoms)\n",
    "    dZ = (V_max - V_min) / (N - 1)\n",
    "    Z_repN = np.repeat([Z], N, axis=0)  # Utility matrix to avoid recomputing later on\n",
    "    # loss = CategoricalCrossentropy()\n",
    "    loss = KLDivergence()\n",
    "else:\n",
    "    Z = None"
   ]
  },
  {
   "cell_type": "code",
   "execution_count": 3,
   "metadata": {},
   "outputs": [
    {
     "data": {
      "text/plain": [
       "[1234]"
      ]
     },
     "execution_count": 3,
     "metadata": {},
     "output_type": "execute_result"
    }
   ],
   "source": [
    "# Initialize Atari environment\n",
    "env = gym.make('SpaceInvadersDeterministic-v4')\n",
    "\n",
    "# Set seeds\n",
    "seed = 1234\n",
    "random.seed(seed)\n",
    "np.random.seed(seed)\n",
    "tf.random.set_seed(seed)\n",
    "env.seed(seed)\n",
    "env.action_space.seed(seed)"
   ]
  },
  {
   "cell_type": "code",
   "execution_count": 4,
   "metadata": {},
   "outputs": [],
   "source": [
    "# Initialize logging and storage\n",
    "# model_name = 'DQN_cp_4f_50ri_3n_pr_cf_tf7_cc_dd_pp3_ds'\n",
    "model_name = 'dn_test'\n",
    "model_dir = f'../{game}/model/{model_name}'\n",
    "\n",
    "os.mkdir(model_dir)\n",
    "os.mkdir(model_dir + '/record')\n",
    "os.mkdir(model_dir + '/model')\n",
    "\n",
    "opath_mem = f'{model_dir}/replay_mem.pkl'\n",
    "opath_model = f'{model_dir}/model/model.keras'\n",
    "ep_log = EpisodeLogger(model_dir + '/episode_log')"
   ]
  },
  {
   "cell_type": "code",
   "execution_count": 5,
   "metadata": {},
   "outputs": [],
   "source": [
    "action_space = range(6)  # Use default action space https://www.gymlibrary.dev/environments/atari/space_invaders/\n",
    "M = len(action_space)\n",
    "kernel_init = 'he_normal'\n",
    "\n",
    "# Set frame crop configuration\n",
    "env.reset()\n",
    "frame = env.step(1)[0]\n",
    "crop_lims = FRAME_CROP_SETTINGS[game] if crop_frame else None\n",
    "frame_shape = preprocess_frame_v4(frame, crop_lims).shape\n",
    "state_shape = (*frame_shape, state_len)\n",
    "\n",
    "# Initialize behavioral network\n",
    "# If using dueling net, we use a seperate action model to back out V and A streams efficiently\n",
    "# Note that this model is clone of behavioral model and points to the same underlying layers\n",
    "if duel_net:\n",
    "    model = atari_model_dueling(M, lr, state_shape, kernel_init, noisy_net, large_net)\n",
    "    model_action = tf.keras.Model(\n",
    "        inputs=[model.get_layer('input_frames').input], \n",
    "        outputs=[model.get_layer('V').output, model.get_layer('A_adj').output]\n",
    "    )\n",
    "elif distr_net:\n",
    "    model = atari_model_distr(N, M, loss, lr, state_shape, kernel_init, noisy_net)\n",
    "    model_action = model\n",
    "else:\n",
    "    model = atari_model(M, lr, state_shape, kernel_init, noisy_net, large_net)\n",
    "    model_action = model\n",
    "\n",
    "# Initialize target network\n",
    "model_tgt = clone_model(model)\n",
    "model_tgt.set_weights(model.get_weights())\n",
    "\n",
    "# Initialize replay memory\n",
    "replay_mem = PrioritizedReplayMemory(replay_mem_sz, state_len, n_step, per_alpha, per_beta)\n",
    "frame_num = 0\n",
    "max_episode_reward = 0\n",
    "episode_start = 0\n",
    "init_done = False"
   ]
  },
  {
   "cell_type": "code",
   "execution_count": 6,
   "metadata": {},
   "outputs": [
    {
     "data": {
      "image/png": "[encoded data removed]",
      "text/plain": [
       "<IPython.core.display.Image object>"
      ]
     },
     "execution_count": 6,
     "metadata": {},
     "output_type": "execute_result"
    }
   ],
   "source": [
    "tf.keras.utils.plot_model(model, show_shapes=False, show_layer_activations=True, rankdir='LR')"
   ]
  },
  {
   "cell_type": "code",
   "execution_count": 8,
   "metadata": {
    "scrolled": true
   },
   "outputs": [
    {
     "name": "stderr",
     "output_type": "stream",
     "text": [
      "../script/utils.py:146: RuntimeWarning: Mean of empty slice\n",
      "  np.nanmean(np.max(Qs, axis=1)),\n",
      "/Users/dionjoren/opt/anaconda3/envs/tf-pip-cp-2.12.0/lib/python3.8/site-packages/numpy/core/fromnumeric.py:3474: RuntimeWarning: Mean of empty slice.\n",
      "  return _methods._mean(a, axis=axis, dtype=dtype,\n",
      "/Users/dionjoren/opt/anaconda3/envs/tf-pip-cp-2.12.0/lib/python3.8/site-packages/numpy/core/_methods.py:189: RuntimeWarning: invalid value encountered in double_scalars\n",
      "  ret = ret.dtype.type(ret / rcount)\n",
      "/Users/dionjoren/opt/anaconda3/envs/tf-pip-cp-2.12.0/lib/python3.8/site-packages/keras/engine/functional.py:1410: CustomMaskWarning: Custom mask layers require a config and must override get_config. When loading, the custom mask layer must be passed to the custom_objects argument.\n",
      "  layer_config = serialize_layer_fn(layer)\n",
      "2024-02-02 00:51:22.029960: W tensorflow/python/util/util.cc:368] Sets are not currently considered sequences, but this may change in the future, so consider avoiding using them.\n"
     ]
    },
    {
     "name": "stdout",
     "output_type": "stream",
     "text": [
      "INFO:tensorflow:Assets written to: ram://ce3f04d0-3e05-474b-a126-1855318a47e4/assets\n"
     ]
    },
    {
     "name": "stderr",
     "output_type": "stream",
     "text": [
      "/Users/dionjoren/opt/anaconda3/envs/tf-pip-cp-2.12.0/lib/python3.8/site-packages/keras/engine/functional.py:1410: CustomMaskWarning: Custom mask layers require a config and must override get_config. When loading, the custom mask layer must be passed to the custom_objects argument.\n",
      "  layer_config = serialize_layer_fn(layer)\n",
      "/Users/dionjoren/opt/anaconda3/envs/tf-pip-cp-2.12.0/lib/python3.8/site-packages/keras/saving/saved_model/layer_serialization.py:112: CustomMaskWarning: Custom mask layers require a config and must override get_config. When loading, the custom mask layer must be passed to the custom_objects argument.\n",
      "  return generic_utils.serialize_keras_object(obj)\n",
      "../script/utils.py:146: RuntimeWarning: Mean of empty slice\n",
      "  np.nanmean(np.max(Qs, axis=1)),\n",
      "/Users/dionjoren/opt/anaconda3/envs/tf-pip-cp-2.12.0/lib/python3.8/site-packages/numpy/core/fromnumeric.py:3474: RuntimeWarning: Mean of empty slice.\n",
      "  return _methods._mean(a, axis=axis, dtype=dtype,\n",
      "/Users/dionjoren/opt/anaconda3/envs/tf-pip-cp-2.12.0/lib/python3.8/site-packages/numpy/core/_methods.py:189: RuntimeWarning: invalid value encountered in double_scalars\n",
      "  ret = ret.dtype.type(ret / rcount)\n",
      "../script/replay_memory.py:62: VisibleDeprecationWarning: Creating an ndarray from ragged nested sequences (which is a list-or-tuple of lists-or-tuples-or ndarrays with different lengths or shapes) is deprecated. If you meant to do this, you must specify 'dtype=object' when creating the ndarray.\n",
      "  return np.array([self.get_memory(idx, n) for idx in idxs]).T\n"
     ]
    }
   ],
   "source": [
    "mp_pool = mp.Pool(1)\n",
    "t_lastmax = datetime.now()  # Time since last max train score (controls)\n",
    "i_animation = 0  # Used to toggle between saliency types\n",
    "\n",
    "for episode_num in range(episode_start, total_train_len):\n",
    "    # Start a new game (episode)\n",
    "    init_frame = env.reset()\n",
    "    new_life = True\n",
    "    game_over = False\n",
    "\n",
    "    # Keep track of episode figures\n",
    "    episode_reward = 0\n",
    "    episode_train_cnt = 0\n",
    "    episode_frames = []\n",
    "    episode_states = []\n",
    "    episode_actions = []\n",
    "    episode_Qs = []\n",
    "    episode_Vs = []\n",
    "    episode_As = []\n",
    "    episode_pZs = []\n",
    "    episode_losses = []\n",
    "    episode_tderrs = []\n",
    "\n",
    "    # SI specific: skip first 20 frames when new game (40 in total with new-life line)\n",
    "    for _ in range(20):\n",
    "        env.step(0)\n",
    "\n",
    "    # Play episode until game over\n",
    "    while not game_over:\n",
    "        if new_life:\n",
    "            # SI specific: skip first 20 frames when new life\n",
    "            for _ in range(20):\n",
    "                env.step(0)\n",
    "\n",
    "            for _ in range(random.randint(1, 15)):\n",
    "                # Random initialization, to reduce overfitting\n",
    "                frame, _, game_over, info = env.step(sample_ran_action(action_space))\n",
    "            \n",
    "            lives = info['ale.lives']\n",
    "            frame_pp = preprocess_frame_v4(frame, crop_lims)  # Maxpooling not needed for first frame\n",
    "            state = np.stack(state_len * [frame_pp], axis=2)\n",
    "            \n",
    "        # Select action\n",
    "        eps = get_lin_anneal_eps(frame_num - replay_init_sz, eps_init, eps_final, eps_final_frame)\n",
    "        eps = eps if init_done else 1\n",
    "        action, Q, V, A, pZ = choose_action(\n",
    "            model_action, state, action_space, eps, duel_net, distr_net, Z\n",
    "        )\n",
    "        \n",
    "        # Store state and actions variables\n",
    "        episode_frames.append(frame)\n",
    "        episode_states.append(state)\n",
    "        episode_actions.append(action)\n",
    "        episode_Qs.append(Q)\n",
    "        episode_Vs.append(V)\n",
    "        episode_As.append(A)\n",
    "        episode_pZs.append(pZ)\n",
    "        \n",
    "        # Take action and observe transition\n",
    "        prev_frame = frame  # Keep previous frame for max pooling step\n",
    "        frame, reward, game_over, info = env.step(action)\n",
    "        \n",
    "        # Process env response\n",
    "        frame_pp = frame_max_pooling([prev_frame, frame])\n",
    "        frame_pp = preprocess_frame_v4(frame_pp, crop_lims)\n",
    "        state = np.append(state[:, :, 1:], frame_pp[:, :, None], axis=2)\n",
    "        # reward = clip_reward(reward)\n",
    "        new_life = info['ale.lives'] < lives \n",
    "        lives = info['ale.lives']\n",
    "        \n",
    "        # Add new transition to replay memory\n",
    "        transition = (action, reward, game_over or new_life, new_life, frame_pp)  # TODO: inspect game + life\n",
    "        replay_mem.store_memory(transition)\n",
    "                \n",
    "        # Increase transition counters\n",
    "        frame_num += 1\n",
    "        episode_reward += reward\n",
    "        init_done = frame_num >= replay_init_sz  # Is replay initializing done\n",
    "                    \n",
    "        # After init period start replay transitions and train model\n",
    "        if init_done:\n",
    "            \n",
    "            # # Initialize td-errors of init replay mems\n",
    "            # if init_tds and frame_num == replay_init_sz:\n",
    "            #     replay_init_idxs = range(replay_init_sz)\n",
    "            #     replay_init_ps = replay_mem.get_priorities(replay_init_idxs)\n",
    "            #     replay_init_idxs = np.flatnonzero(replay_init_ps)\n",
    "            #     replay_init_mems = replay_mem.get_memories(replay_init_idxs, n_step)[:-1]\n",
    "            #     replay_init_td_errs = td_error(model, model_tgt, action_space, disc_rate, *replay_init_mems)\n",
    "            #     replay_mem.update_priorities(replay_init_idxs, replay_init_td_errs)\n",
    "\n",
    "            # Train model every train_interval\n",
    "            if frame_num % train_interval == 0:\n",
    "                mini_batch = replay_mem.get_sample(batch_sz)\n",
    "                batch_idxs, mini_batch = mini_batch[-1], mini_batch[:-1]\n",
    "                w_imps = replay_mem.get_imps_weights(batch_idxs)\n",
    "                \n",
    "                if distr_net:\n",
    "                    batch_td_errs, loss = fit_batch_DDQNn_PER_DS(\n",
    "                        model, model_tgt, action_space, disc_rate, *mini_batch, w_imps, \n",
    "                        Z, Z_repN, dZ, (V_min, V_max), noisy_net, double_learn\n",
    "                    )\n",
    "                else:\n",
    "                    batch_td_errs, loss = fit_batch_DDQNn_PER(\n",
    "                        model, model_tgt, action_space, disc_rate, *mini_batch, \n",
    "                        w_imps, noisy_net, double_learn\n",
    "                    )\n",
    "                replay_mem.update_priorities(batch_idxs, batch_td_errs)\n",
    "                # Is there balance between updating ps and having new ps set to max? will updated ps stand a chance?\n",
    "                episode_train_cnt += 1\n",
    "                episode_losses.append(loss)\n",
    "                episode_tderrs.append(np.mean(batch_td_errs))\n",
    "\n",
    "            # Update target model\n",
    "            if frame_num % tgt_update_interval == 0:\n",
    "                model_tgt.set_weights(model.get_weights())\n",
    "\n",
    "    # Log episode statistics\n",
    "    ep_log.append(\n",
    "        episode_num, episode_train_cnt, frame_num, episode_reward, \n",
    "        episode_actions, episode_Qs, episode_losses, episode_tderrs\n",
    "    )\n",
    "\n",
    "    # Variables to control output frequency\n",
    "    run_anim_reg = episode_num % 1000 == 0\n",
    "    run_anim_max = (episode_reward > max_episode_reward) & (datetime.now() > t_lastmax)\n",
    "    backup_model = episode_num % 250 == 0\n",
    "\n",
    "    # Output episode animation video every 1000 episodes\n",
    "    # Also output episode video if new max score was attained, and time-delta has been met\n",
    "    if run_anim_reg or run_anim_max:\n",
    "        opath_anim = f'{model_dir}/record/{episode_num}_train_{episode_reward}.mp4'\n",
    "        sal_type = 'gcam' if i_animation % 2 else 'sal'\n",
    "\n",
    "        mp_pool.apply_async(animate_episode_sal, args=(\n",
    "            model, episode_states, episode_frames, episode_actions, \n",
    "            episode_Qs, episode_Vs, episode_As, action_space, opath_anim, \n",
    "            duel_net, distr_net, (Z, episode_pZs), sal_type)\n",
    "        )\n",
    "        i_animation += 1\n",
    "        if run_anim_max:\n",
    "            t_lastmax = datetime.now() + timedelta(minutes=30)\n",
    "            max_episode_reward = episode_reward\n",
    "        \n",
    "    # Backup model and replay memory every 250 episodes\n",
    "    # Note: takes a minute or two, so should not be run frequently \n",
    "    if backup_model:\n",
    "        joblib.dump(replay_mem, opath_mem, compress=3)\n",
    "        model.save(opath_model)\n"
   ]
  },
  {
   "cell_type": "code",
   "execution_count": null,
   "metadata": {},
   "outputs": [],
   "source": []
  },
  {
   "cell_type": "code",
   "execution_count": null,
   "metadata": {},
   "outputs": [],
   "source": []
  },
  {
   "cell_type": "code",
   "execution_count": null,
   "metadata": {},
   "outputs": [],
   "source": []
  },
  {
   "cell_type": "code",
   "execution_count": null,
   "metadata": {},
   "outputs": [],
   "source": []
  },
  {
   "cell_type": "code",
   "execution_count": null,
   "metadata": {},
   "outputs": [],
   "source": []
  },
  {
   "cell_type": "code",
   "execution_count": null,
   "metadata": {},
   "outputs": [],
   "source": [
    "@tf.function  # Somehow this causes y_pred to have slightly different decimals\n",
    "def train_on_batch(model, x, y_tgt, actions, tgt_zeroing=False, sample_weight=None):\n",
    "    with tf.GradientTape() as tape:\n",
    "        # Forward pass, keep only pred values for actions actually taken\n",
    "        y_pred = model(x, training=True)\n",
    "        indices = tf.expand_dims(actions, -1)  # 1D to 2D\n",
    "        y_pred = tf.expand_dims(tf.gather_nd(y_pred, indices, batch_dims=1), -1)\n",
    "        loss = model.loss(y_tgt, y_pred, sample_weight=sample_weight)\n",
    "        \n",
    "    # Backward pass\n",
    "    grads = tape.gradient(loss, model.trainable_weights)\n",
    "    model.optimizer.apply_gradients(zip(grads, model.trainable_weights))\n",
    "    return y_pred, loss\n",
    "\n",
    "@tf.function  # Somehow this causes y_pred to have slightly different decimals\n",
    "def train_on_batch2(model, x, y_tgt, actions, tgt_zeroing=False, sample_weight=None):\n",
    "    with tf.GradientTape() as tape:\n",
    "        y_pred = model(x, training=True)\n",
    "\n",
    "        # Set target such that updates are only executed for those actions taken,\n",
    "        # i.e. one action per each sample\n",
    "        shape = y_pred.get_shape()\n",
    "        indices = tf.stack([tf.range(shape[0]), actions], axis=1)\n",
    "        if tgt_zeroing:\n",
    "            y_tgt = tf.scatter_nd(indices, y_tgt, shape)  # Set all but the update values to 0\n",
    "        else:\n",
    "            y_tgt = tf.tensor_scatter_nd_update(y_pred, indices, y_tgt)  # Set all but the update values to y_pred\n",
    "        loss = model.loss(y_tgt, y_pred, sample_weight=sample_weight)\n",
    "        \n",
    "    # Backward pass\n",
    "    grads = tape.gradient(loss, model.trainable_weights)\n",
    "    model.optimizer.apply_gradients(zip(grads, model.trainable_weights))\n",
    "    return y_pred, loss\n",
    "\n",
    "from atari_model import abs_td_error"
   ]
  },
  {
   "cell_type": "code",
   "execution_count": null,
   "metadata": {},
   "outputs": [],
   "source": [
    "state_now, action, rewards, game_over, state_next = mini_batch\n",
    "x = np.stack(state_now)\n",
    "action = action.astype('int32')\n",
    "\n",
    "tf.random.set_seed(seed)\n",
    "model1 = atari_model_dueling(M, lr, state_shape, kernel_init, noisy_net, large_net)\n",
    "tf.random.set_seed(seed)\n",
    "model2 = atari_model_dueling(M, lr, state_shape, kernel_init, noisy_net, large_net)"
   ]
  },
  {
   "cell_type": "code",
   "execution_count": null,
   "metadata": {},
   "outputs": [],
   "source": [
    "Q_next_tgt = model1(x).numpy()\n",
    "Q_next_tgt_max = Q_next_tgt.max(axis=1, keepdims=True)\n",
    "n = 3\n",
    "R_n = (np.stack(rewards)).sum(axis=1, keepdims=True)  # n-step forward return\n",
    "Q_now_tgt = np.float32(R_n + Q_next_tgt_max)  # Has dims (batch_sz, 1)\n",
    "pred1, l1 = train_on_batch(model1, x, Q_now_tgt, action, sample_weight=w_imps)\n",
    "td1 = abs_td_error(pred1, Q_now_tgt)"
   ]
  },
  {
   "cell_type": "code",
   "execution_count": null,
   "metadata": {},
   "outputs": [],
   "source": [
    "Q_next_tgt = model1(x).numpy()\n",
    "Q_next_tgt_max = Q_next_tgt.max(axis=1, keepdims=True)\n",
    "n = 3\n",
    "R_n = (np.stack(rewards)).sum(axis=1, keepdims=True)  # n-step forward return\n",
    "Q_now_tgt = np.float32(R_n + Q_next_tgt_max)  # Has dims (batch_sz, 1)"
   ]
  },
  {
   "cell_type": "code",
   "execution_count": null,
   "metadata": {},
   "outputs": [],
   "source": [
    "Q_next_tgt = model1(x).numpy()\n",
    "Q_next_tgt_max = Q_next_tgt.max(axis=1)\n",
    "n = 3\n",
    "R_n = (np.stack(rewards)).sum(axis=1)  # n-step forward return\n",
    "Q_now_tgt2 = np.float32(R_n + Q_next_tgt_max)  # Has dims (batch_sz, 1)"
   ]
  },
  {
   "cell_type": "code",
   "execution_count": null,
   "metadata": {},
   "outputs": [
    {
     "data": {
      "text/plain": [
       "array([ 0.16592658,  0.06072769,  0.09493752,  0.16158016,  0.05259099,\n",
       "        0.10843253,  0.23562898,  0.16574259,  0.0614053 ,  0.05316041,\n",
       "       -0.09435908,  0.13099879,  0.09184173,  0.21896473,  0.26399025,\n",
       "        0.17539315,  0.19559202,  0.10241026,  0.11359905,  0.10644329,\n",
       "        0.19914463,  0.09802823,  0.07264499,  0.2231821 ,  0.11533904,\n",
       "        0.14305255,  0.10845242,  0.11606859,  0.16778196,  0.04622375,\n",
       "        0.09634934,  0.199819  ], dtype=float32)"
      ]
     },
     "execution_count": 33,
     "metadata": {},
     "output_type": "execute_result"
    }
   ],
   "source": [
    "Q_next_tgt[range(32),Q_next_tgt.argmax(axis=1), None]"
   ]
  },
  {
   "cell_type": "code",
   "execution_count": null,
   "metadata": {},
   "outputs": [
    {
     "data": {
      "text/plain": [
       "((32, 1), (32,))"
      ]
     },
     "execution_count": 47,
     "metadata": {},
     "output_type": "execute_result"
    }
   ],
   "source": [
    "Q_now_tgt.shape, Q_now_tgt2.shape"
   ]
  },
  {
   "cell_type": "code",
   "execution_count": null,
   "metadata": {},
   "outputs": [
    {
     "data": {
      "text/plain": [
       "array([ True,  True,  True,  True,  True,  True,  True,  True,  True,\n",
       "        True,  True,  True,  True,  True,  True,  True,  True,  True,\n",
       "        True,  True,  True,  True,  True,  True,  True,  True,  True,\n",
       "        True,  True,  True,  True,  True])"
      ]
     },
     "execution_count": 15,
     "metadata": {},
     "output_type": "execute_result"
    }
   ],
   "source": [
    "Q_now_tgt2 == Q_now_tgt.ravel()"
   ]
  },
  {
   "cell_type": "code",
   "execution_count": null,
   "metadata": {},
   "outputs": [],
   "source": [
    "def f1(model, x, y_tgt, actions, tgt_zeroing=False, sample_weight=None):\n",
    "    with tf.GradientTape() as tape:\n",
    "        # Forward pass, keep only pred values for actions actually taken\n",
    "        y_pred = model(x, training=True)\n",
    "        indices = tf.expand_dims(actions, -1)  # 1D to 2D\n",
    "        y_pred = tf.expand_dims(tf.gather_nd(y_pred, indices, batch_dims=1), -1)\n",
    "        # y_pred = tf.gather_nd(y_pred, indices, batch_dims=1)\n",
    "        loss = Huber(reduction='auto')(y_tgt, y_pred, sample_weight=sample_weight)\n",
    "        # loss = model.loss(y_tgt, y_pred) / 6\n",
    "    return loss, y_pred\n",
    "\n",
    "def f11(model, x, y_tgt, actions, tgt_zeroing=False, sample_weight=None):\n",
    "    with tf.GradientTape() as tape:\n",
    "        y_pred = model(x, training=True)\n",
    "        indices = tf.expand_dims(actions, -1)  # 1D to 2D\n",
    "        y_pred = tf.expand_dims(tf.gather_nd(y_pred, indices, batch_dims=1), -1)\n",
    "        loss = Huber()(y_tgt, y_pred, sample_weight=sample_weight) / 6\n",
    "    return loss, y_pred\n",
    "\n",
    "def f2(model, x, y_tgt, actions, sample_weight=None):\n",
    "    with tf.GradientTape() as tape:\n",
    "        # Forward pass, keep only pred values for actions actually taken\n",
    "        y_pred = model(x, training=True)\n",
    "        shape = y_pred.get_shape()\n",
    "        indices = tf.stack([tf.range(shape[0]), actions], axis=1)\n",
    "        y_tgt = tf.tensor_scatter_nd_update(y_pred, indices, y_tgt)  # Set all but the update values to y_pred\n",
    "        loss = Huber(reduction='auto')(y_tgt, y_pred, sample_weight=sample_weight)\n",
    "    return loss, y_pred"
   ]
  },
  {
   "cell_type": "code",
   "execution_count": null,
   "metadata": {},
   "outputs": [
    {
     "data": {
      "text/plain": [
       "(1.2136731, 1.2136731147766113)"
      ]
     },
     "execution_count": 32,
     "metadata": {},
     "output_type": "execute_result"
    }
   ],
   "source": [
    "(\n",
    "    f1(model, x, Q_now_tgt, action, sample_weight=w_imps)[0].numpy().mean(),\n",
    "    f2(model, x, Q_now_tgt2, action, sample_weight=w_imps)[0].numpy().mean() * 6,\n",
    ")"
   ]
  },
  {
   "cell_type": "code",
   "execution_count": null,
   "metadata": {},
   "outputs": [
    {
     "data": {
      "text/plain": [
       "(<tf.Tensor: shape=(), dtype=float32, numpy=0.20227885>,\n",
       " <tf.Tensor: shape=(), dtype=float32, numpy=0.20227885>)"
      ]
     },
     "execution_count": 35,
     "metadata": {},
     "output_type": "execute_result"
    }
   ],
   "source": [
    "(\n",
    "    f1(model, x, Q_now_tgt, action, sample_weight=w_imps)[0] / 6,\n",
    "    f2(model, x, Q_now_tgt2, action, sample_weight=w_imps)[0]\n",
    ")"
   ]
  },
  {
   "cell_type": "code",
   "execution_count": null,
   "metadata": {},
   "outputs": [
    {
     "data": {
      "text/plain": [
       "(0.20227885246276855,\n",
       " <tf.Tensor: shape=(), dtype=float32, numpy=0.20227885>,\n",
       " <tf.Tensor: shape=(), dtype=float32, numpy=0.20227885>)"
      ]
     },
     "execution_count": 31,
     "metadata": {},
     "output_type": "execute_result"
    }
   ],
   "source": [
    "(\n",
    "    np.mean(f1(model, x, Q_now_tgt, action, sample_weight=w_imps)[0]) / 6,\n",
    "    f11(model, x, Q_now_tgt, action, sample_weight=w_imps)[0],\n",
    "    f2(model, x, Q_now_tgt2, action, sample_weight=w_imps)[0],\n",
    ")"
   ]
  },
  {
   "cell_type": "code",
   "execution_count": null,
   "metadata": {},
   "outputs": [
    {
     "data": {
      "text/plain": [
       "array([[ 1.61145270e-01],\n",
       "       [ 2.14669779e-02],\n",
       "       [ 1.51709528e+01],\n",
       "       [ 2.03712583e-02],\n",
       "       [ 7.61484280e-02],\n",
       "       [ 1.24149077e-01],\n",
       "       [-2.64927745e-04],\n",
       "       [ 7.15637766e-03],\n",
       "       [ 1.24165490e-01],\n",
       "       [ 1.84970409e-01],\n",
       "       [ 2.32546568e-01],\n",
       "       [ 8.24995190e-02],\n",
       "       [ 1.99180454e-01],\n",
       "       [-4.14049998e-02],\n",
       "       [ 9.58715081e-02],\n",
       "       [ 3.31913888e-01],\n",
       "       [ 2.30275244e-01],\n",
       "       [-1.04053795e-01],\n",
       "       [ 1.69075131e-01],\n",
       "       [ 1.46381915e-01],\n",
       "       [ 8.78487974e-02],\n",
       "       [ 3.02403030e+01],\n",
       "       [ 1.76405251e-01],\n",
       "       [ 1.73055053e-01],\n",
       "       [ 8.26931596e-02],\n",
       "       [ 2.72347212e-01],\n",
       "       [ 6.14454076e-02],\n",
       "       [-1.06498674e-02],\n",
       "       [ 9.83160138e-02],\n",
       "       [ 4.20964956e-02],\n",
       "       [ 2.38716155e-02],\n",
       "       [ 6.01409897e-02]], dtype=float32)"
      ]
     },
     "execution_count": 98,
     "metadata": {},
     "output_type": "execute_result"
    }
   ],
   "source": [
    "Q_now_tgt"
   ]
  },
  {
   "cell_type": "code",
   "execution_count": null,
   "metadata": {},
   "outputs": [],
   "source": []
  },
  {
   "cell_type": "code",
   "execution_count": null,
   "metadata": {},
   "outputs": [],
   "source": []
  },
  {
   "cell_type": "code",
   "execution_count": null,
   "metadata": {},
   "outputs": [
    {
     "data": {
      "text/plain": [
       "(<tf.Tensor: shape=(), dtype=float32, numpy=0.23136456>,\n",
       " <tf.Tensor: shape=(), dtype=float32, numpy=0.23083226>)"
      ]
     },
     "execution_count": 49,
     "metadata": {},
     "output_type": "execute_result"
    }
   ],
   "source": [
    "x = np.stack(state_now)\n",
    "l1, y1 = f1(model, x, Q_now_tgt2, action)\n",
    "l2, y2 = f1(model, x, Q_now_tgt, action)\n",
    "l1, l2"
   ]
  },
  {
   "cell_type": "code",
   "execution_count": null,
   "metadata": {},
   "outputs": [
    {
     "data": {
      "text/plain": [
       "(<tf.Tensor: shape=(), dtype=float32, numpy=0.23083226>,\n",
       " <tf.Tensor: shape=(), dtype=float32, numpy=0.23083226>)"
      ]
     },
     "execution_count": 61,
     "metadata": {},
     "output_type": "execute_result"
    }
   ],
   "source": [
    "x = np.stack(state_now)\n",
    "l1, y1 = f1(model, x, Q_now_tgt, action, sample_weight=w_imps[:, None])\n",
    "l2, y2 = f1(model, x, Q_now_tgt, action, sample_weight=w_imps)\n",
    "l1, l2"
   ]
  },
  {
   "cell_type": "code",
   "execution_count": null,
   "metadata": {},
   "outputs": [
    {
     "data": {
      "text/plain": [
       "True"
      ]
     },
     "execution_count": 26,
     "metadata": {},
     "output_type": "execute_result"
    }
   ],
   "source": [
    "np.all(y1 == y2)"
   ]
  },
  {
   "cell_type": "code",
   "execution_count": null,
   "metadata": {},
   "outputs": [
    {
     "data": {
      "text/plain": [
       "(<tf.Tensor: shape=(), dtype=float32, numpy=1.3849936>,\n",
       " <tf.Tensor: shape=(), dtype=float32, numpy=1.3881874>)"
      ]
     },
     "execution_count": 28,
     "metadata": {},
     "output_type": "execute_result"
    }
   ],
   "source": [
    "model.loss(Q_now_tgt, y1), model.loss(Q_now_tgt2, y1)"
   ]
  },
  {
   "cell_type": "code",
   "execution_count": null,
   "metadata": {},
   "outputs": [
    {
     "data": {
      "text/plain": [
       "array([[-1.12501681e-01],\n",
       "       [-7.45910034e-02],\n",
       "       [ 1.50615225e+01],\n",
       "       [ 1.90830100e-02],\n",
       "       [-9.80816111e-02],\n",
       "       [-6.57125637e-02],\n",
       "       [-1.47648066e-01],\n",
       "       [-1.10246770e-01],\n",
       "       [-1.43623993e-01],\n",
       "       [-1.27182752e-01],\n",
       "       [-3.51558328e-02],\n",
       "       [-3.75804380e-02],\n",
       "       [-1.18977040e-01],\n",
       "       [-1.00912228e-01],\n",
       "       [-1.54760629e-01],\n",
       "       [-5.00906706e-02],\n",
       "       [ 2.04010308e-03],\n",
       "       [-5.47601953e-02],\n",
       "       [-5.23475409e-02],\n",
       "       [-2.22518742e-02],\n",
       "       [-4.08160239e-02],\n",
       "       [ 3.01076927e+01],\n",
       "       [-1.92460716e-02],\n",
       "       [-8.39561224e-03],\n",
       "       [-1.54348016e-01],\n",
       "       [ 2.75989383e-01],\n",
       "       [-5.02593294e-02],\n",
       "       [-4.67834175e-02],\n",
       "       [-1.42308667e-01],\n",
       "       [-8.12738985e-02],\n",
       "       [-6.35515302e-02],\n",
       "       [-2.19991803e-02]], dtype=float32)"
      ]
     },
     "execution_count": 39,
     "metadata": {},
     "output_type": "execute_result"
    }
   ],
   "source": [
    "(Q_now_tgt - y1).numpy()#, (Q_now_tgt2 - y1).numpy().mean()"
   ]
  },
  {
   "cell_type": "code",
   "execution_count": null,
   "metadata": {},
   "outputs": [
    {
     "data": {
      "text/plain": [
       "array([[-0.11250168, -0.25217998, 14.8973055 , ..., -0.23155046,\n",
       "        -0.24977534, -0.21350595],\n",
       "       [ 0.06508729, -0.074591  , 15.074895  , ..., -0.05396149,\n",
       "        -0.07218637, -0.03591699],\n",
       "       [ 0.05171499, -0.08796331, 15.0615225 , ..., -0.06733379,\n",
       "        -0.08555867, -0.04928929],\n",
       "       ...,\n",
       "       [ 0.03777488, -0.10190342, 15.047583  , ..., -0.0812739 ,\n",
       "        -0.09949878, -0.0632294 ],\n",
       "       [ 0.07372212, -0.06595617, 15.083529  , ..., -0.04532665,\n",
       "        -0.06355153, -0.02728216],\n",
       "       [ 0.0790051 , -0.06067319, 15.088813  , ..., -0.04004367,\n",
       "        -0.05826855, -0.02199918]], dtype=float32)"
      ]
     },
     "execution_count": 43,
     "metadata": {},
     "output_type": "execute_result"
    }
   ],
   "source": [
    "(Q_now_tgt2 - y1).numpy()"
   ]
  },
  {
   "cell_type": "code",
   "execution_count": null,
   "metadata": {},
   "outputs": [],
   "source": []
  },
  {
   "cell_type": "code",
   "execution_count": null,
   "metadata": {},
   "outputs": [
    {
     "data": {
      "text/plain": [
       "array([3.02156162e+01, 2.25859314e-01, 1.21854492e-01, 3.39083374e-03,\n",
       "       3.04274231e-01, 3.09470028e-01, 1.36214793e-01, 2.88032115e-01,\n",
       "       2.51581612e+01, 4.84219566e-02, 1.15301386e-01, 2.02334061e-01,\n",
       "       1.50000000e+01, 3.01987228e+01, 1.50000000e+01, 5.26766300e+00,\n",
       "       2.00197334e+01, 1.39158517e-01, 1.60349786e-01, 1.50000000e+01,\n",
       "       1.30929261e-01, 0.00000000e+00, 2.20590476e-02, 2.03035984e+01,\n",
       "       1.18493751e-01, 5.38515568e+00, 3.09257656e-01, 5.21540642e-08,\n",
       "       2.02161064e+01, 2.12894157e-01, 2.31461108e-01, 4.33051765e-01],\n",
       "      dtype=float32)"
      ]
     },
     "execution_count": 164,
     "metadata": {},
     "output_type": "execute_result"
    }
   ],
   "source": [
    "td1"
   ]
  },
  {
   "cell_type": "code",
   "execution_count": null,
   "metadata": {},
   "outputs": [
    {
     "ename": "NameError",
     "evalue": "name 'model2' is not defined",
     "output_type": "error",
     "traceback": [
      "\u001b[0;31m---------------------------------------------------------------------------\u001b[0m",
      "\u001b[0;31mNameError\u001b[0m                                 Traceback (most recent call last)",
      "Cell \u001b[0;32mIn[9], line 1\u001b[0m\n\u001b[0;32m----> 1\u001b[0m Q_next_tgt \u001b[38;5;241m=\u001b[39m \u001b[43mmodel2\u001b[49m(x)\u001b[38;5;241m.\u001b[39mnumpy()\n\u001b[1;32m      2\u001b[0m Q_next_tgt_max \u001b[38;5;241m=\u001b[39m Q_next_tgt\u001b[38;5;241m.\u001b[39mmax(axis\u001b[38;5;241m=\u001b[39m\u001b[38;5;241m1\u001b[39m, keepdims\u001b[38;5;241m=\u001b[39m\u001b[38;5;28;01mFalse\u001b[39;00m)\n\u001b[1;32m      3\u001b[0m n \u001b[38;5;241m=\u001b[39m \u001b[38;5;241m3\u001b[39m\n",
      "\u001b[0;31mNameError\u001b[0m: name 'model2' is not defined"
     ]
    }
   ],
   "source": [
    "Q_next_tgt = model2(x).numpy()\n",
    "Q_next_tgt_max = Q_next_tgt.max(axis=1, keepdims=False)\n",
    "n = 3\n",
    "R_n = (np.stack(rewards)).sum(axis=1, keepdims=False)  # n-step forward return\n",
    "Q_now_tgt = np.float32(R_n + Q_next_tgt_max)  # Has dims (batch_sz, 1)\n",
    "pred2, l2 = train_on_batch2(model2, x, Q_now_tgt, action, sample_weight=w_imps)"
   ]
  },
  {
   "cell_type": "code",
   "execution_count": null,
   "metadata": {},
   "outputs": [
    {
     "data": {
      "text/plain": [
       "array([3.02156162e+01, 2.25859314e-01, 1.21854492e-01, 3.39083374e-03,\n",
       "       3.04274231e-01, 3.09470028e-01, 1.36214793e-01, 2.88032115e-01,\n",
       "       2.51581612e+01, 4.84219566e-02, 1.15301386e-01, 2.02334061e-01,\n",
       "       1.50000000e+01, 3.01987228e+01, 1.50000000e+01, 5.26766300e+00,\n",
       "       2.00197334e+01, 1.39158517e-01, 1.60349786e-01, 1.50000000e+01,\n",
       "       1.30929261e-01, 0.00000000e+00, 2.20590476e-02, 2.03035984e+01,\n",
       "       1.18493751e-01, 5.38515568e+00, 3.09257656e-01, 5.21540642e-08,\n",
       "       2.02161064e+01, 2.12894157e-01, 2.31461108e-01, 4.33051765e-01],\n",
       "      dtype=float32)"
      ]
     },
     "execution_count": 166,
     "metadata": {},
     "output_type": "execute_result"
    }
   ],
   "source": [
    "td2 = abs_td_error(pred2.numpy()[range(batch_sz), action] , Q_now_tgt)\n",
    "td2"
   ]
  },
  {
   "cell_type": "code",
   "execution_count": null,
   "metadata": {},
   "outputs": [
    {
     "name": "stdout",
     "output_type": "stream",
     "text": [
      "tf.Tensor(6.135637, shape=(), dtype=float32)\n",
      "tf.Tensor(6.127363, shape=(), dtype=float32)\n",
      "tf.Tensor(6.121019, shape=(), dtype=float32)\n",
      "tf.Tensor(6.1173587, shape=(), dtype=float32)\n",
      "tf.Tensor(6.117865, shape=(), dtype=float32)\n",
      "tf.Tensor(6.1197133, shape=(), dtype=float32)\n",
      "tf.Tensor(6.124042, shape=(), dtype=float32)\n",
      "tf.Tensor(6.130021, shape=(), dtype=float32)\n",
      "tf.Tensor(6.1377068, shape=(), dtype=float32)\n",
      "tf.Tensor(6.150482, shape=(), dtype=float32)\n",
      "tf.Tensor(6.1717005, shape=(), dtype=float32)\n",
      "tf.Tensor(6.2066145, shape=(), dtype=float32)\n",
      "tf.Tensor(6.2594137, shape=(), dtype=float32)\n",
      "tf.Tensor(6.335909, shape=(), dtype=float32)\n",
      "tf.Tensor(6.4283876, shape=(), dtype=float32)\n",
      "tf.Tensor(6.522491, shape=(), dtype=float32)\n",
      "tf.Tensor(6.6542797, shape=(), dtype=float32)\n",
      "tf.Tensor(6.8238497, shape=(), dtype=float32)\n",
      "tf.Tensor(7.098086, shape=(), dtype=float32)\n",
      "tf.Tensor(7.4091024, shape=(), dtype=float32)\n",
      "tf.Tensor(8.271431, shape=(), dtype=float32)\n",
      "tf.Tensor(8.68379, shape=(), dtype=float32)\n",
      "tf.Tensor(12.808443, shape=(), dtype=float32)\n",
      "tf.Tensor(12.775448, shape=(), dtype=float32)\n",
      "tf.Tensor(19.297365, shape=(), dtype=float32)\n",
      "tf.Tensor(17.024376, shape=(), dtype=float32)\n",
      "tf.Tensor(29.378645, shape=(), dtype=float32)\n",
      "tf.Tensor(33.4597, shape=(), dtype=float32)\n",
      "tf.Tensor(49.205215, shape=(), dtype=float32)\n",
      "tf.Tensor(49.933884, shape=(), dtype=float32)\n",
      "tf.Tensor(79.90632, shape=(), dtype=float32)\n",
      "tf.Tensor(75.123314, shape=(), dtype=float32)\n",
      "tf.Tensor(119.80838, shape=(), dtype=float32)\n",
      "tf.Tensor(148.24081, shape=(), dtype=float32)\n",
      "tf.Tensor(180.44879, shape=(), dtype=float32)\n",
      "tf.Tensor(173.78082, shape=(), dtype=float32)\n",
      "tf.Tensor(239.31976, shape=(), dtype=float32)\n",
      "tf.Tensor(255.141, shape=(), dtype=float32)\n",
      "tf.Tensor(359.44873, shape=(), dtype=float32)\n",
      "tf.Tensor(424.53552, shape=(), dtype=float32)\n",
      "tf.Tensor(491.8224, shape=(), dtype=float32)\n",
      "tf.Tensor(534.5034, shape=(), dtype=float32)\n",
      "tf.Tensor(657.4696, shape=(), dtype=float32)\n",
      "tf.Tensor(686.6982, shape=(), dtype=float32)\n",
      "tf.Tensor(846.11865, shape=(), dtype=float32)\n",
      "tf.Tensor(920.3286, shape=(), dtype=float32)\n",
      "tf.Tensor(1131.5684, shape=(), dtype=float32)\n",
      "tf.Tensor(1222.1517, shape=(), dtype=float32)\n",
      "tf.Tensor(1421.2395, shape=(), dtype=float32)\n",
      "tf.Tensor(1555.1528, shape=(), dtype=float32)\n"
     ]
    }
   ],
   "source": [
    "for _ in range(50):\n",
    "    Q_next_tgt = model1(x).numpy()\n",
    "    Q_next_tgt_max = Q_next_tgt.max(axis=1, keepdims=True)\n",
    "    n = 3\n",
    "    R_n = (np.stack(rewards)).sum(axis=1, keepdims=True)  # n-step forward return\n",
    "    Q_now_tgt = np.float32(R_n + Q_next_tgt_max)  # Has dims (batch_sz, 1)\n",
    "    print(train_on_batch(model1, x, Q_now_tgt, action, sample_weight=w_imps)[1])"
   ]
  },
  {
   "cell_type": "code",
   "execution_count": null,
   "metadata": {},
   "outputs": [
    {
     "name": "stdout",
     "output_type": "stream",
     "text": [
      "tf.Tensor(6.146886, shape=(), dtype=float32)\n",
      "tf.Tensor(6.144699, shape=(), dtype=float32)\n",
      "tf.Tensor(6.142667, shape=(), dtype=float32)\n",
      "tf.Tensor(6.140784, shape=(), dtype=float32)\n",
      "tf.Tensor(6.1390414, shape=(), dtype=float32)\n",
      "tf.Tensor(6.137376, shape=(), dtype=float32)\n",
      "tf.Tensor(6.135777, shape=(), dtype=float32)\n",
      "tf.Tensor(6.1342688, shape=(), dtype=float32)\n",
      "tf.Tensor(6.1328516, shape=(), dtype=float32)\n",
      "tf.Tensor(6.13151, shape=(), dtype=float32)\n",
      "tf.Tensor(6.1302347, shape=(), dtype=float32)\n",
      "tf.Tensor(6.1289864, shape=(), dtype=float32)\n",
      "tf.Tensor(6.1278276, shape=(), dtype=float32)\n",
      "tf.Tensor(6.12673, shape=(), dtype=float32)\n",
      "tf.Tensor(6.1257033, shape=(), dtype=float32)\n",
      "tf.Tensor(6.124819, shape=(), dtype=float32)\n",
      "tf.Tensor(6.124154, shape=(), dtype=float32)\n",
      "tf.Tensor(6.123536, shape=(), dtype=float32)\n",
      "tf.Tensor(6.1231728, shape=(), dtype=float32)\n",
      "tf.Tensor(6.1228895, shape=(), dtype=float32)\n",
      "tf.Tensor(6.122612, shape=(), dtype=float32)\n",
      "tf.Tensor(6.1223927, shape=(), dtype=float32)\n",
      "tf.Tensor(6.122241, shape=(), dtype=float32)\n",
      "tf.Tensor(6.1223474, shape=(), dtype=float32)\n",
      "tf.Tensor(6.1228113, shape=(), dtype=float32)\n",
      "tf.Tensor(6.123371, shape=(), dtype=float32)\n",
      "tf.Tensor(6.124154, shape=(), dtype=float32)\n",
      "tf.Tensor(6.1250916, shape=(), dtype=float32)\n",
      "tf.Tensor(6.1260467, shape=(), dtype=float32)\n",
      "tf.Tensor(6.1271253, shape=(), dtype=float32)\n",
      "tf.Tensor(6.1283283, shape=(), dtype=float32)\n",
      "tf.Tensor(6.1296654, shape=(), dtype=float32)\n",
      "tf.Tensor(6.1310534, shape=(), dtype=float32)\n",
      "tf.Tensor(6.132521, shape=(), dtype=float32)\n",
      "tf.Tensor(6.134121, shape=(), dtype=float32)\n",
      "tf.Tensor(6.1358657, shape=(), dtype=float32)\n",
      "tf.Tensor(6.1376424, shape=(), dtype=float32)\n",
      "tf.Tensor(6.139705, shape=(), dtype=float32)\n",
      "tf.Tensor(6.142166, shape=(), dtype=float32)\n",
      "tf.Tensor(6.14505, shape=(), dtype=float32)\n",
      "tf.Tensor(6.148555, shape=(), dtype=float32)\n",
      "tf.Tensor(6.1528225, shape=(), dtype=float32)\n",
      "tf.Tensor(6.157773, shape=(), dtype=float32)\n",
      "tf.Tensor(6.163291, shape=(), dtype=float32)\n",
      "tf.Tensor(6.169732, shape=(), dtype=float32)\n",
      "tf.Tensor(6.1773276, shape=(), dtype=float32)\n",
      "tf.Tensor(6.1857476, shape=(), dtype=float32)\n",
      "tf.Tensor(6.195345, shape=(), dtype=float32)\n",
      "tf.Tensor(6.206128, shape=(), dtype=float32)\n",
      "tf.Tensor(6.218396, shape=(), dtype=float32)\n"
     ]
    }
   ],
   "source": [
    "for _ in range(50):\n",
    "    Q_next_tgt = model2(x).numpy()\n",
    "    Q_next_tgt_max = Q_next_tgt.max(axis=1, keepdims=False)\n",
    "    n = 3\n",
    "    R_n = (np.stack(rewards)).sum(axis=1, keepdims=False)  # n-step forward return\n",
    "    Q_now_tgt = np.float32(R_n + Q_next_tgt_max)  # Has dims (batch_sz, 1)\n",
    "    print(train_on_batch2(model2, x, Q_now_tgt, action, sample_weight=w_imps)[1])"
   ]
  },
  {
   "cell_type": "code",
   "execution_count": null,
   "metadata": {},
   "outputs": [],
   "source": []
  },
  {
   "cell_type": "code",
   "execution_count": null,
   "metadata": {},
   "outputs": [],
   "source": []
  },
  {
   "cell_type": "code",
   "execution_count": null,
   "metadata": {},
   "outputs": [],
   "source": [
    "# 11.5 - 3 compr GB for 4508 episodes"
   ]
  },
  {
   "cell_type": "code",
   "execution_count": null,
   "metadata": {},
   "outputs": [],
   "source": [
    "a = np.array([[1], [2]])"
   ]
  },
  {
   "cell_type": "code",
   "execution_count": null,
   "metadata": {},
   "outputs": [],
   "source": [
    "@tf.function  # Somehow this causes y_pred to have slightly different decimals\n",
    "def train_on_batch(model, x, y_tgt, actions, tgt_zeroing=False, sample_weight=None):\n",
    "    with tf.GradientTape() as tape:\n",
    "        # Forward pass, keep only pred values for actions actually taken\n",
    "        y_pred = model(x, training=True)\n",
    "        indices = tf.expand_dims(actions, -1)  # 1D to 2D\n",
    "        y_pred = tf.expand_dims(tf.gather_nd(y_pred, indices, batch_dims=1), -1)\n",
    "        loss = model.loss(y_tgt, y_pred, sample_weight=sample_weight)\n",
    "        \n",
    "    # Backward pass\n",
    "    grads = tape.gradient(loss, model.trainable_weights)\n",
    "    model.optimizer.apply_gradients(zip(grads, model.trainable_weights))\n",
    "    return y_pred, loss"
   ]
  },
  {
   "cell_type": "code",
   "execution_count": null,
   "metadata": {},
   "outputs": [],
   "source": [
    "state_now, action, rewards, game_over, state_next = mini_batch\n",
    "x = np.stack(state_now)\n",
    "action = action.astype('int32')"
   ]
  },
  {
   "cell_type": "code",
   "execution_count": null,
   "metadata": {},
   "outputs": [],
   "source": [
    "# model_tgt = clone_model(model)\n",
    "# model_tgt.set_weights(model.get_weights())"
   ]
  },
  {
   "cell_type": "code",
   "execution_count": null,
   "metadata": {},
   "outputs": [
    {
     "data": {
      "text/plain": [
       "(<tf.Tensor: shape=(32, 1), dtype=float32, numpy=\n",
       " array([[1.0627561 ],\n",
       "        [0.8938535 ],\n",
       "        [0.6220055 ],\n",
       "        [0.4317693 ],\n",
       "        [0.63995767],\n",
       "        [1.0317239 ],\n",
       "        [0.48084933],\n",
       "        [0.692519  ],\n",
       "        [0.70803404],\n",
       "        [0.49818942],\n",
       "        [0.8305197 ],\n",
       "        [1.0515336 ],\n",
       "        [0.95167315],\n",
       "        [0.93536884],\n",
       "        [0.88220966],\n",
       "        [0.82973146],\n",
       "        [0.543817  ],\n",
       "        [0.8471759 ],\n",
       "        [0.74581546],\n",
       "        [0.7531091 ],\n",
       "        [0.70619166],\n",
       "        [0.97358567],\n",
       "        [0.36639675],\n",
       "        [0.7019837 ],\n",
       "        [0.5633619 ],\n",
       "        [0.7633652 ],\n",
       "        [0.57345474],\n",
       "        [0.7209159 ],\n",
       "        [0.99736494],\n",
       "        [0.8776028 ],\n",
       "        [0.9415817 ],\n",
       "        [0.6316835 ]], dtype=float32)>,\n",
       " <tf.Tensor: shape=(), dtype=float32, numpy=6.102832>)"
      ]
     },
     "execution_count": 12,
     "metadata": {},
     "output_type": "execute_result"
    }
   ],
   "source": [
    "Q_next_tgt = model(x).numpy()\n",
    "Q_next_tgt_max = Q_next_tgt.max(axis=1, keepdims=True)\n",
    "n = 3\n",
    "R_n = (np.stack(rewards)).sum(axis=1, keepdims=True)  # n-step forward return\n",
    "Q_now_tgt = np.float32(R_n + Q_next_tgt_max)  # Has dims (batch_sz, 1)\n",
    "train_on_batch(model, x, Q_now_tgt, action)"
   ]
  },
  {
   "cell_type": "code",
   "execution_count": null,
   "metadata": {},
   "outputs": [],
   "source": []
  },
  {
   "cell_type": "code",
   "execution_count": null,
   "metadata": {},
   "outputs": [],
   "source": []
  },
  {
   "cell_type": "code",
   "execution_count": null,
   "metadata": {},
   "outputs": [],
   "source": [
    "tgt = model(np.stack(state_next)).numpy()[:, 0].astype('float32')"
   ]
  },
  {
   "cell_type": "code",
   "execution_count": null,
   "metadata": {},
   "outputs": [
    {
     "data": {
      "text/plain": [
       "(32, 1)"
      ]
     },
     "execution_count": 191,
     "metadata": {},
     "output_type": "execute_result"
    }
   ],
   "source": [
    "Q_next_tgt = model(np.stack(state_next)).numpy()\n",
    "Q_next_tgt_max = Q_next_tgt.max(axis=1, keepdims=True)\n",
    "\n",
    "# Set Q target. We only want to run SGD updates for those actions taken\n",
    "n = 3\n",
    "R_n = (np.stack(rewards)).sum(axis=1, keepdims=True)  # n-step forward return\n",
    "Q_now_tgt = np.float32(R_n + Q_next_tgt_max)  # Has dims (batch_sz, 1)\n",
    "Q_now_tgt.shape"
   ]
  },
  {
   "cell_type": "code",
   "execution_count": null,
   "metadata": {},
   "outputs": [
    {
     "data": {
      "text/plain": [
       "array([[ 0.],\n",
       "       [ 0.],\n",
       "       [ 0.],\n",
       "       [ 0.],\n",
       "       [ 0.],\n",
       "       [ 0.],\n",
       "       [ 0.],\n",
       "       [ 0.],\n",
       "       [ 0.],\n",
       "       [ 0.],\n",
       "       [ 0.],\n",
       "       [ 0.],\n",
       "       [ 0.],\n",
       "       [ 0.],\n",
       "       [ 0.],\n",
       "       [ 0.],\n",
       "       [ 0.],\n",
       "       [ 0.],\n",
       "       [ 0.],\n",
       "       [ 0.],\n",
       "       [30.],\n",
       "       [ 0.],\n",
       "       [ 0.],\n",
       "       [ 0.],\n",
       "       [ 0.],\n",
       "       [ 0.],\n",
       "       [ 0.],\n",
       "       [ 0.],\n",
       "       [ 0.],\n",
       "       [20.],\n",
       "       [ 0.],\n",
       "       [ 0.]], dtype=float16)"
      ]
     },
     "execution_count": 174,
     "metadata": {},
     "output_type": "execute_result"
    }
   ],
   "source": [
    "R_n[:, None]"
   ]
  },
  {
   "cell_type": "code",
   "execution_count": null,
   "metadata": {},
   "outputs": [],
   "source": [
    "@tf.function  # Somehow this causes y_pred to have slightly different decimals\n",
    "def train_on_batch(model, x, y_tgt, actions, tgt_zeroing=False, sample_weight=None):\n",
    "    with tf.GradientTape() as tape:\n",
    "        # Forward pass, keep only pred values for actions actually taken\n",
    "        y_pred = model(x, training=True)\n",
    "        indices = tf.stack([tf.range(y_pred.get_shape()[0]), actions], axis=1)\n",
    "        y_pred = tf.gather_nd(y_pred, indices)\n",
    "        print(y_pred.shape, y_tgt.shape, len(sample_weight))\n",
    "        loss = model.loss(y_tgt, y_pred, sample_weight=sample_weight)\n",
    "        \n",
    "    # Backward pass\n",
    "    grads = tape.gradient(loss, model.trainable_weights)\n",
    "    model.optimizer.apply_gradients(zip(grads, model.trainable_weights))\n",
    "    return y_pred, loss"
   ]
  },
  {
   "cell_type": "code",
   "execution_count": null,
   "metadata": {},
   "outputs": [],
   "source": []
  },
  {
   "cell_type": "code",
   "execution_count": null,
   "metadata": {},
   "outputs": [],
   "source": []
  },
  {
   "cell_type": "code",
   "execution_count": null,
   "metadata": {},
   "outputs": [],
   "source": []
  }
 ],
 "metadata": {
  "kernelspec": {
   "display_name": "Python 3",
   "language": "python",
   "name": "python3"
  },
  "language_info": {
   "codemirror_mode": {
    "name": "ipython",
    "version": 3
   },
   "file_extension": ".py",
   "mimetype": "text/x-python",
   "name": "python",
   "nbconvert_exporter": "python",
   "pygments_lexer": "ipython3",
   "version": "3.8.3"
  }
 },
 "nbformat": 4,
 "nbformat_minor": 4
}
